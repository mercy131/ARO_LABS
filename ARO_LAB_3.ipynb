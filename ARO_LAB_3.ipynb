{
 "cells": [
  {
   "cell_type": "code",
   "execution_count": 84,
   "id": "85ac3ea9",
   "metadata": {},
   "outputs": [],
   "source": [
    "from torchvision import datasets\n",
    "%matplotlib inline\n",
    "import matplotlib.pyplot as plt\n",
    "from sklearn.neighbors import KNeighborsClassifier\n",
    "from sklearn.metrics import accuracy_score, f1_score\n",
    "import torch.utils.data as DATA\n",
    "import numpy as np\n"
   ]
  },
  {
   "cell_type": "code",
   "execution_count": 85,
   "id": "0efcedfd",
   "metadata": {},
   "outputs": [],
   "source": [
    "Data_mnist = datasets.MNIST('data',download ='true')"
   ]
  },
  {
   "cell_type": "code",
   "execution_count": 86,
   "id": "5bd1a576",
   "metadata": {},
   "outputs": [],
   "source": [
    "train_set, test_set = DATA.random_split(Data_mnist, [36000, 24000])"
   ]
  },
  {
   "cell_type": "code",
   "execution_count": 87,
   "id": "5de01857",
   "metadata": {},
   "outputs": [
    {
     "name": "stderr",
     "output_type": "stream",
     "text": [
      "<ipython-input-87-7da07fec6596>:1: FutureWarning: The input object of type 'Image' is an array-like implementing one of the corresponding protocols (`__array__`, `__array_interface__` or `__array_struct__`); but not a sequence (or 0-D). In the future, this object will be coerced as if it was first converted using `np.array(obj)`. To retain the old behaviour, you have to either modify the type 'Image', or assign to an empty array created with `np.empty(correct_shape, dtype=object)`.\n",
      "  train_set=np.array(train_set)\n",
      "<ipython-input-87-7da07fec6596>:1: VisibleDeprecationWarning: Creating an ndarray from ragged nested sequences (which is a list-or-tuple of lists-or-tuples-or ndarrays with different lengths or shapes) is deprecated. If you meant to do this, you must specify 'dtype=object' when creating the ndarray.\n",
      "  train_set=np.array(train_set)\n",
      "<ipython-input-87-7da07fec6596>:2: FutureWarning: The input object of type 'Image' is an array-like implementing one of the corresponding protocols (`__array__`, `__array_interface__` or `__array_struct__`); but not a sequence (or 0-D). In the future, this object will be coerced as if it was first converted using `np.array(obj)`. To retain the old behaviour, you have to either modify the type 'Image', or assign to an empty array created with `np.empty(correct_shape, dtype=object)`.\n",
      "  test_set=np.array(test_set)\n",
      "<ipython-input-87-7da07fec6596>:2: VisibleDeprecationWarning: Creating an ndarray from ragged nested sequences (which is a list-or-tuple of lists-or-tuples-or ndarrays with different lengths or shapes) is deprecated. If you meant to do this, you must specify 'dtype=object' when creating the ndarray.\n",
      "  test_set=np.array(test_set)\n"
     ]
    }
   ],
   "source": [
    "train_set=np.array(train_set)\n",
    "test_set=np.array(test_set)"
   ]
  },
  {
   "cell_type": "code",
   "execution_count": 88,
   "id": "0b318f74",
   "metadata": {},
   "outputs": [],
   "source": [
    "train_x=train_set[:,0]\n",
    "train_y=train_set[:,1]\n",
    "train_y=train_y.astype('int')\n",
    "train_x=np.stack(train_x)\n",
    "train_x=train_x.reshape((train_x.shape[0],-1))\n"
   ]
  },
  {
   "cell_type": "code",
   "execution_count": 89,
   "id": "a41f8d2f",
   "metadata": {},
   "outputs": [],
   "source": [
    "test_x=test_set[:,0]\n",
    "test_y=test_set[:,1]\n",
    "test_y=test_y.astype('int')\n",
    "test_x=np.stack(test_x)\n",
    "test_x=test_x.reshape((test_x.shape[0],-1))\n"
   ]
  },
  {
   "cell_type": "code",
   "execution_count": 90,
   "id": "6db3fc48",
   "metadata": {},
   "outputs": [],
   "source": [
    "knn = KNeighborsClassifier(n_neighbors = 10)"
   ]
  },
  {
   "cell_type": "code",
   "execution_count": 91,
   "id": "ca9908c7",
   "metadata": {},
   "outputs": [
    {
     "data": {
      "text/plain": [
       "KNeighborsClassifier(n_neighbors=10)"
      ]
     },
     "execution_count": 91,
     "metadata": {},
     "output_type": "execute_result"
    }
   ],
   "source": [
    "knn.fit(train_x, train_y)"
   ]
  },
  {
   "cell_type": "code",
   "execution_count": 92,
   "id": "5d3431b2",
   "metadata": {},
   "outputs": [
    {
     "name": "stdout",
     "output_type": "stream",
     "text": [
      "0.03213888888888883 3\n"
     ]
    }
   ],
   "source": [
    "from sklearn.model_selection import GridSearchCV\n",
    "nnb = [ 3, 5,7, 10] \n",
    "knn = KNeighborsClassifier()\n",
    "grid = GridSearchCV(knn, param_grid = {'n_neighbors': nnb}, cv=10)\n",
    "grid.fit(train_x, train_y)\n",
    "\n",
    "best_cv_err = 1 - grid.best_score_\n",
    "best_n_neighbors = grid.best_estimator_.n_neighbors\n",
    "print(best_cv_err, best_n_neighbors)"
   ]
  },
  {
   "cell_type": "code",
   "execution_count": 93,
   "id": "d377a5f8",
   "metadata": {},
   "outputs": [],
   "source": [
    "knn = KNeighborsClassifier(n_neighbors = best_n_neighbors).fit(train_x, train_y)"
   ]
  },
  {
   "cell_type": "code",
   "execution_count": 94,
   "id": "0196501c",
   "metadata": {},
   "outputs": [
    {
     "name": "stdout",
     "output_type": "stream",
     "text": [
      "Wall time: 1min 15s\n"
     ]
    }
   ],
   "source": [
    "%%time\n",
    "test_y_predict=knn.predict(test_x)"
   ]
  },
  {
   "cell_type": "code",
   "execution_count": 95,
   "id": "57f58663",
   "metadata": {},
   "outputs": [
    {
     "data": {
      "text/plain": [
       "0.03145833333333333"
      ]
     },
     "execution_count": 95,
     "metadata": {},
     "output_type": "execute_result"
    }
   ],
   "source": [
    "err_test  = np.mean(test_y  != test_y_predict)\n",
    "err_test"
   ]
  },
  {
   "cell_type": "code",
   "execution_count": 96,
   "id": "1b697986",
   "metadata": {},
   "outputs": [
    {
     "name": "stdout",
     "output_type": "stream",
     "text": [
      "0.9685416666666666\n"
     ]
    }
   ],
   "source": [
    "print(accuracy_score(test_y,test_y_predict))"
   ]
  },
  {
   "cell_type": "code",
   "execution_count": 97,
   "id": "b294ee40",
   "metadata": {},
   "outputs": [
    {
     "name": "stdout",
     "output_type": "stream",
     "text": [
      "0.9683585146537468\n"
     ]
    }
   ],
   "source": [
    "from sklearn.metrics import f1_score\n",
    "print(f1_score(test_y,test_y_predict,average='macro'))"
   ]
  },
  {
   "cell_type": "code",
   "execution_count": 98,
   "id": "cb051031",
   "metadata": {},
   "outputs": [
    {
     "name": "stdout",
     "output_type": "stream",
     "text": [
      "[[2374    1    0    0    1    3    4    0    1    2]\n",
      " [   2 2644    4    1    2    0    1    7    0    2]\n",
      " [  16   34 2266    8    5    1    4   32    2    0]\n",
      " [   1    6   15 2409    0   21    2   17    8    4]\n",
      " [   2   19    2    0 2326    0    8    9    0   47]\n",
      " [  10    4    1   28    5 2033   30    4    2    8]\n",
      " [  10    6    0    0    2    7 2314    0    1    0]\n",
      " [   3   22   10    1   10    0    0 2389    1   21]\n",
      " [   9   28   11   41   13   44    8    5 2184   24]\n",
      " [   5    6    3   23   21    3    2   27    2 2306]]\n"
     ]
    }
   ],
   "source": [
    "from sklearn.metrics import confusion_matrix\n",
    "\n",
    "print(confusion_matrix(test_y, test_y_predict))"
   ]
  },
  {
   "cell_type": "code",
   "execution_count": null,
   "id": "01cd0fea",
   "metadata": {},
   "outputs": [],
   "source": []
  }
 ],
 "metadata": {
  "kernelspec": {
   "display_name": "Python 3",
   "language": "python",
   "name": "python3"
  },
  "language_info": {
   "codemirror_mode": {
    "name": "ipython",
    "version": 3
   },
   "file_extension": ".py",
   "mimetype": "text/x-python",
   "name": "python",
   "nbconvert_exporter": "python",
   "pygments_lexer": "ipython3",
   "version": "3.8.8"
  }
 },
 "nbformat": 4,
 "nbformat_minor": 5
}
