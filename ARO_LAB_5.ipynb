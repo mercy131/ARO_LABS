{
 "cells": [
  {
   "cell_type": "code",
   "execution_count": 64,
   "id": "4610325a",
   "metadata": {},
   "outputs": [],
   "source": [
    "from torchvision import datasets\n",
    "%matplotlib inline\n",
    "import matplotlib.pyplot as plt\n",
    "import torch\n",
    "from sklearn.neighbors import KNeighborsClassifier\n",
    "from sklearn.metrics import accuracy_score, f1_score\n",
    "import torch.utils.data as DATA\n",
    "import numpy as np"
   ]
  },
  {
   "cell_type": "code",
   "execution_count": 65,
   "id": "de5babd9",
   "metadata": {},
   "outputs": [],
   "source": [
    "set_x = torch.tensor([[1.], [2.05], [3.]], requires_grad=False)\n",
    "set_y= torch.tensor([[2.], [4.], [6.]], requires_grad=False)"
   ]
  },
  {
   "cell_type": "code",
   "execution_count": 66,
   "id": "80205568",
   "metadata": {},
   "outputs": [],
   "source": [
    "class LinearRegressionModel(torch.nn.Module):\n",
    "    def __init__(self):\n",
    "        super(LinearRegressionModel, self).__init__()\n",
    "        self.linear = torch.nn.Linear(1, 1)\n",
    "    \n",
    "    def forward(self, x):\n",
    "        y_pred = self.linear(x)\n",
    "        return y_pred\n",
    "    \n",
    "    def __repr__(self):\n",
    "        repr = \"\"\n",
    "        for name, param in self.named_parameters():\n",
    "            if param.requires_grad:\n",
    "                repr += f'{name} {param.data}\\n'\n",
    "        return repr"
   ]
  },
  {
   "cell_type": "code",
   "execution_count": 67,
   "id": "fbc87457",
   "metadata": {},
   "outputs": [],
   "source": [
    "get_model = LinearRegressionModel()\n",
    "criter = torch.nn.MSELoss()\n",
    "opt= torch.optim.Adam(get_model.parameters(), lr=0.1)"
   ]
  },
  {
   "cell_type": "code",
   "execution_count": 68,
   "id": "f523f141",
   "metadata": {},
   "outputs": [
    {
     "data": {
      "text/plain": [
       "linear.weight tensor([[-0.1150]])\n",
       "linear.bias tensor([-0.1580])"
      ]
     },
     "execution_count": 68,
     "metadata": {},
     "output_type": "execute_result"
    }
   ],
   "source": [
    "get_model"
   ]
  },
  {
   "cell_type": "code",
   "execution_count": 69,
   "id": "926d787c",
   "metadata": {},
   "outputs": [
    {
     "data": {
      "text/plain": [
       "22.25414276123047"
      ]
     },
     "execution_count": 69,
     "metadata": {},
     "output_type": "execute_result"
    }
   ],
   "source": [
    "predict_y = get_model(set_x)\n",
    "loss = criter(predict_y, set_y)\n",
    "loss.item()"
   ]
  },
  {
   "cell_type": "code",
   "execution_count": 70,
   "id": "60de176a",
   "metadata": {},
   "outputs": [],
   "source": [
    "loss_array = []\n",
    "loss_last = -1000\n",
    "for i in range(0,400):\n",
    "    predict_y = get_model(set_x)\n",
    "    loss = criter(predict_y, set_y)\n",
    "    loss_array.append(loss)\n",
    "    opt.zero_grad()\n",
    "    loss.backward()\n",
    "    opt.step()\n",
    "    if abs(loss.item() - loss_last) < 1e-7: break\n",
    "    loss_last = loss.item()\n"
   ]
  },
  {
   "cell_type": "code",
   "execution_count": 71,
   "id": "2e67006f",
   "metadata": {},
   "outputs": [
    {
     "data": {
      "text/plain": [
       "linear.weight tensor([[1.9967]])\n",
       "linear.bias tensor([-0.0264])"
      ]
     },
     "execution_count": 71,
     "metadata": {},
     "output_type": "execute_result"
    }
   ],
   "source": [
    "get_model"
   ]
  },
  {
   "cell_type": "code",
   "execution_count": 72,
   "id": "fd1ed9a8",
   "metadata": {},
   "outputs": [
    {
     "data": {
      "text/plain": [
       "0.002222164301201701"
      ]
     },
     "execution_count": 72,
     "metadata": {},
     "output_type": "execute_result"
    }
   ],
   "source": [
    "predict_y = get_model(set_x)\n",
    "loss = criter(predict_y, set_y)\n",
    "loss.item()"
   ]
  },
  {
   "cell_type": "code",
   "execution_count": 73,
   "id": "fc545eaf",
   "metadata": {},
   "outputs": [
    {
     "data": {
      "text/plain": [
       "[<matplotlib.lines.Line2D at 0x2697480a280>]"
      ]
     },
     "execution_count": 73,
     "metadata": {},
     "output_type": "execute_result"
    },
    {
     "data": {
      "image/png": "[encoded data removed]",
      "text/plain": [
       "<Figure size 432x288 with 1 Axes>"
      ]
     },
     "metadata": {
      "needs_background": "light"
     },
     "output_type": "display_data"
    }
   ],
   "source": [
    "plt_x = range(len(loss_array))\n",
    "plt_y = [loss.item() for loss in loss_array]\n",
    "plt.plot(plt_x, plt_y)"
   ]
  },
  {
   "cell_type": "code",
   "execution_count": null,
   "id": "b4baca18",
   "metadata": {},
   "outputs": [],
   "source": []
  }
 ],
 "metadata": {
  "kernelspec": {
   "display_name": "Python 3",
   "language": "python",
   "name": "python3"
  },
  "language_info": {
   "codemirror_mode": {
    "name": "ipython",
    "version": 3
   },
   "file_extension": ".py",
   "mimetype": "text/x-python",
   "name": "python",
   "nbconvert_exporter": "python",
   "pygments_lexer": "ipython3",
   "version": "3.8.8"
  }
 },
 "nbformat": 4,
 "nbformat_minor": 5
}
